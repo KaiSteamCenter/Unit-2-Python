{
 "cells": [
  {
   "cell_type": "code",
   "execution_count": 45,
   "metadata": {},
   "outputs": [
    {
     "name": "stdout",
     "output_type": "stream",
     "text": [
      "Number of Customers with Subscription: 457\n",
      "Number of Customers without Subscription: 1280\n",
      "Numerical Difference: -823\n",
      "Total Number of Customers: 1737\n",
      "\n",
      "\n",
      "             max  median  min\n",
      "Category                     \n",
      "Accessories  100    60.0   20\n",
      "Clothing     100    60.0   20\n",
      "Footwear     100    60.0   20\n",
      "Outerwear    100    54.5   20\n"
     ]
    }
   ],
   "source": [
    "import pandas as pd\n",
    "import matplotlib.pyplot as plt\n",
    "import numpy as np\n",
    "# Code to Calculate Customers based upon Subsciption Status.\n",
    "\n",
    "df = pd.read_csv(\"shopping_trends_updated.csv\")\n",
    "\n",
    "catdata = df[df['Category'] == 'Clothing']\n",
    "subcount = catdata['Subscription Status'].value_counts()\n",
    "subdifference = subcount['Yes'] - subcount['No']\n",
    "\n",
    "print(f'Number of Customers with Subscription: {subcount[\"Yes\"]}')\n",
    "print(f'Number of Customers without Subscription: {subcount[\"No\"]}')\n",
    "print(f'Numerical Difference: {subdifference}')\n",
    "print(f'Total Number of Customers: {subcount.sum()}')\n",
    "print('\\n')\n",
    "\n",
    "# Code to Calculate max purchase per category.\n",
    "maxpurchase = df.groupby('Category')['Purchase Amount (USD)'].agg(['max', 'median', 'min'])\n",
    "print(maxpurchase)\n",
    "\n",
    "\n"
   ]
  }
 ],
 "metadata": {
  "kernelspec": {
   "display_name": "Python 3",
   "language": "python",
   "name": "python3"
  },
  "language_info": {
   "codemirror_mode": {
    "name": "ipython",
    "version": 3
   },
   "file_extension": ".py",
   "mimetype": "text/x-python",
   "name": "python",
   "nbconvert_exporter": "python",
   "pygments_lexer": "ipython3",
   "version": "3.12.0"
  }
 },
 "nbformat": 4,
 "nbformat_minor": 2
}

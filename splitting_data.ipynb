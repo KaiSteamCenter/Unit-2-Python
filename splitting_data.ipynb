{
 "cells": [
  {
   "cell_type": "markdown",
   "metadata": {},
   "source": [
    "# Splitting Data\n",
    "In this lab you will begin working with data sets with multiple peices of information. Multiple pieces of information is normally stored in format called **CSV** which stands for Comma Seperate Values.\n",
    "\n",
    "For any questions, edit the appropriate markdown block and answer between the ` ``` ``` ` using complete sentences. \n",
    "\n",
    "For any code blocks you are to include comments explaining your code to recieve full credit."
   ]
  },
  {
   "cell_type": "markdown",
   "metadata": {},
   "source": [
    "1. Open the file `sales.csv` in VSCode, how is the data organized? How can you differentiate between the various pieces of information included in this data set?\n",
    "```\n",
    "The code starts with a heading, and inside that heading it has the customer, subtotal, total, and date. The following code follows the first heading's organization.\n",
    "```\n",
    "\n",
    "2. Is this a effective method of storing data? Why or why not?\n",
    "```\n",
    "CSV is technically a effective method, due to it's simplicity and human-readability, however it's not as good as other data methods, because it's limited data types it supports (only string)\n",
    "```\n",
    "\n",
    "3. What types of information is stored in this file? How could this information be used by a business?\n",
    "```\n",
    "Sales Data of customers; String. This information could be used to track customer insights, revenue, etc.\n",
    "```\n",
    "\n",
    "4. How would we seperate each piece of information to be used in a python program?\n",
    "```\n",
    "One way we can seperate each piece of information in a python program is by doing the .split() method.\n",
    "```"
   ]
  },
  {
   "cell_type": "markdown",
   "metadata": {},
   "source": [
    "Run the following code, and analyze the output"
   ]
  },
  {
   "cell_type": "code",
   "execution_count": null,
   "metadata": {},
   "outputs": [],
   "source": [
    "from collections import Counter\n",
    "\n",
    "letters = ['B','B','A','B','C','A','B','B','A','C']\n",
    "\n",
    "letters_count = Counter(letters)\n",
    "\n",
    "print(letters_count)"
   ]
  },
  {
   "cell_type": "markdown",
   "metadata": {},
   "source": [
    "5. What was the output of the above code block? What did it accomplish?\n",
    "```m\n",
    "The output of the code was: \" Counter({'B': 5, 'A': 3, 'C': 2}) \". The counter module counted the letters inside of the list, and tallyed/marked how many there was, hence the 5 B's.\n",
    "```\n",
    "6. What is the format of the output? What data type does it most relate to?\n",
    "```\n",
    "The format of this computer is like a dictionary that are around  curly brackets. The keys are the a, b, and c, while the values are 5, 3, and 2.\n",
    "\n",
    "Counter = {'B': 5,\n",
    "           'A': 3, \n",
    "           'C': 2\n",
    "}\n",
    "```"
   ]
  },
  {
   "cell_type": "markdown",
   "metadata": {},
   "source": [
    "*Use the code block below to open `sales.csv` with python. Then create a variable called `content` which is equal to a list of each line of the file*"
   ]
  },
  {
   "cell_type": "code",
   "execution_count": null,
   "metadata": {},
   "outputs": [],
   "source": [
    "content = []\n",
    "\n",
    "with open('sales.csv') as salesFile:\n",
    "    for line in salesFile:\n",
    "        content.append(line.strip())        \n",
    "\n",
    "\n",
    "print(content)"
   ]
  },
  {
   "cell_type": "markdown",
   "metadata": {},
   "source": [
    "*Using the `split` function, seperate each row of data. Then append the customer's name to a list called `customers`*"
   ]
  },
  {
   "cell_type": "code",
   "execution_count": null,
   "metadata": {},
   "outputs": [],
   "source": [
    "import matplotlib.pyplot as plt\n",
    "\n",
    "months = ['January', 'February', 'March']\n",
    "\n",
    "sales = [janTotal, febTotal, marTotal]\n",
    "\n",
    "plt.ylim(0, max(sales))\n",
    "plt.ylabel('Money')\n",
    "plt.title('Sales of First 3 Months')\n",
    "plt.plot(months, sales)\n",
    "\n",
    "\n"
   ]
  },
  {
   "cell_type": "markdown",
   "metadata": {},
   "source": [
    "# Splitting Data\n",
    "In this lab you will begin working with data sets with multiple peices of information. Multiple pieces of information is normally stored in format called **CSV** which stands for Comma Seperate Values.\n",
    "\n",
    "For any questions, edit the appropriate markdown block and answer between the ` ``` ``` ` using complete sentences. \n",
    "\n",
    "For any code blocks you are to include comments explaining your code to recieve full credit."
   ]
  },
  {
   "cell_type": "markdown",
   "metadata": {},
   "source": [
    "1. Open the file `sales.csv` in VSCode, how is the data organized? How can you differentiate between the various pieces of information included in this data set?\n",
    "```\n",
    "The code starts with a heading, and inside that heading it has the customer, subtotal, total, and date. The following code follows the first heading's organization.\n",
    "```\n",
    "\n",
    "2. Is this a effective method of storing data? Why or why not?\n",
    "```\n",
    "CSV is technically a effective method, due to it's simplicity and human-readability, however it's not as good as other data methods, because it's limited data types it supports (only string)\n",
    "```\n",
    "\n",
    "3. What types of information is stored in this file? How could this information be used by a business?\n",
    "```\n",
    "Sales Data of customers; String. This information could be used to track customer insights, revenue, etc.\n",
    "```\n",
    "\n",
    "4. How would we seperate each piece of information to be used in a python program?\n",
    "```\n",
    "One way we can seperate each piece of information in a python program is by doing the .split() method.\n",
    "```"
   ]
  },
  {
   "cell_type": "markdown",
   "metadata": {},
   "source": [
    "*Use the code block below to open `sales.csv` with python. Then create a variable called `content` which is equal to a list of each line of the file*"
   ]
  },
  {
   "cell_type": "code",
   "execution_count": null,
   "metadata": {},
   "outputs": [],
   "source": [
    "with open('sales.csv') as salesFile:\n",
    "    content = salesFile.readlines()\n",
    "\n",
    "print(content)"
   ]
  },
  {
   "cell_type": "markdown",
   "metadata": {},
   "source": [
    "*Using the `split` function and a `for` loop calculate the total sales in a month*\n",
    "\n",
    "*Hint: you will need a seperate variable for each month*"
   ]
  },
  {
   "cell_type": "code",
   "execution_count": null,
   "metadata": {},
   "outputs": [],
   "source": [
    "janTotal = 0\n",
    "febTotal = 0\n",
    "marTotal = 0\n",
    "\n",
    "del content[0]\n",
    "for line in content:\n",
    "    \n",
    "    part = line.strip().split(',')\n",
    "    date = part[3]\n",
    "    month = date.split('/')[0]\n",
    "    tot = float(part[2])\n",
    "    if month == \"1\":\n",
    "        janTotal += tot \n",
    "    elif month == \"2\":\n",
    "        febTotal += tot \n",
    "    elif month == \"3\":\n",
    "        marTotal += tot \n",
    "\n",
    "print(\"Sales for January\", janTotal)\n",
    "print(\"Sales for February\", febTotal)\n",
    "print(\"Sales for March\", marTotal)\n",
    "\n"
   ]
  },
  {
   "cell_type": "markdown",
   "metadata": {},
   "source": [
    "*Using your calculated total sales create a graph to represent this data and write a written analysis*"
   ]
  },
  {
   "cell_type": "code",
   "execution_count": null,
   "metadata": {},
   "outputs": [],
   "source": [
    "import matplotlib.pyplot as plt\n",
    "\n",
    "months = ['January', 'February', 'March']\n",
    "\n",
    "sales = [janTotal, febTotal, marTotal]\n",
    "\n",
    "plt.ylim(0, max(sales))\n",
    "plt.ylabel('Money')\n",
    "plt.title('Sales of First 3 Months')\n",
    "plt.plot(months, sales)\n",
    "\n",
    "\n"
   ]
  },
  {
   "cell_type": "markdown",
   "metadata": {},
   "source": [
    "```The total sales for the months of January, February, and March are displayed in the bar chart. The data makes it clear that sales fluctuated throughout these three months.\n",
    "The total sales for January shows a strong start, at approx. $48623. \n",
    "Going into Febuary, the sales had decreased, to approx. $42500. March, however, had the best sales for the 3 months, of $52616.\n",
    "\n",
    "\n",
    "Overall, this data shows a promising start in January, a decline for Febuary, and the highest sale income for March.\n",
    "```"
   ]
  },
  {
   "cell_type": "markdown",
   "metadata": {},
   "source": [
    "*Using the `split` function, seperate each row of data. Then append the customer's name to a list called `customers`*"
   ]
  },
  {
   "cell_type": "code",
   "execution_count": null,
   "metadata": {},
   "outputs": [],
   "source": [
    "customers = [] \n",
    "\n",
    "\n",
    "\n",
    "\n",
    "for line in content:\n",
    "    line = line.strip().split(',')\n",
    "    customer_name = line[0]\n",
    "    customers.append(customer_name)\n",
    "\n",
    "print(customers)\n"
   ]
  },
  {
   "cell_type": "markdown",
   "metadata": {},
   "source": [
    "Run the following code, and analyze the output"
   ]
  },
  {
   "cell_type": "code",
   "execution_count": null,
   "metadata": {},
   "outputs": [],
   "source": [
    "from collections import Counter\n",
    "\n",
    "letters = ['B','B','A','B','C','A','B','B','A','C']\n",
    "\n",
    "letters_count = Counter(letters)\n",
    "\n",
    "print(letters_count)"
   ]
  },
  {
   "cell_type": "markdown",
   "metadata": {},
   "source": [
    "5. What was the output of the above code block? What did it accomplish?\n",
    "```m\n",
    "The output of the code was: \" Counter({'B': 5, 'A': 3, 'C': 2}) \". The counter module counted the letters inside of the list, and tallyed/marked how many there was, hence the 5 B's.\n",
    "```\n",
    "6. What is the format of the output? What data type does it most relate to?\n",
    "```\n",
    "The format of this computer is like a dictionary that are around  curly brackets. The keys are the a, b, and c, while the values are 5, 3, and 2.\n",
    "\n",
    "Counter = {'B': 5,\n",
    "           'A': 3, \n",
    "           'C': 2\n",
    "}\n",
    "```"
   ]
  },
  {
   "cell_type": "markdown",
   "metadata": {},
   "source": [
    "*Using the `Counter` from the `collections` library, and your list of customers create a graph to represent this data and write a written analysis*"
   ]
  },
  {
   "cell_type": "code",
   "execution_count": null,
   "metadata": {},
   "outputs": [],
   "source": [
    "customers_count = Counter(customers)\n",
    "\n",
    "print(customers_count)\n",
    "\n",
    "\n",
    "keys = customers_count.keys()\n",
    "values = customers_count.values()\n",
    "\n",
    "\n",
    "plt.figure(figsize=(12, 4))\n",
    "plt.xlabel(\"Names\")\n",
    "plt.xticks(rotation=80)\n",
    "plt.bar(keys, values)"
   ]
  },
  {
   "cell_type": "markdown",
   "metadata": {},
   "source": [
    "```\n",
    "The code calculates the frequency of customer names and displays the most common ones in a bar plot. 'Babbie Deeson' is the most frequent customer name with 32 occurrences, followed by 'Lindon Duddin' with 29. This analysis helps identify popular customers in the dataset.\n",
    "```"
   ]
  }
 ],
 "metadata": {
  "kernelspec": {
   "display_name": "Python 3",
   "language": "python",
   "name": "python3"
  },
  "language_info": {
   "codemirror_mode": {
    "name": "ipython",
    "version": 3
   },
   "file_extension": ".py",
   "mimetype": "text/x-python",
   "name": "python",
   "nbconvert_exporter": "python",
   "pygments_lexer": "ipython3",
   "version": "3.10.8 (main, Oct 13 2022, 09:48:40) [Clang 14.0.0 (clang-1400.0.29.102)]"
  },
  "vscode": {
   "interpreter": {
    "hash": "b0fa6594d8f4cbf19f97940f81e996739fb7646882a419484c72d19e05852a7e"
   }
  }
 },
 "nbformat": 4,
 "nbformat_minor": 2
}

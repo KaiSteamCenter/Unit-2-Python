{
 "cells": [
  {
   "cell_type": "markdown",
   "metadata": {},
   "source": [
    "# File Operations\n",
    "In this excercise you will begin working on using the `open` function within python to manipulate files and create reports on those files.\n",
    "\n",
    "**YOU ARE TO INCLUDE COMMENTS ALONG SIDE YOUR CODE**"
   ]
  },
  {
   "cell_type": "markdown",
   "metadata": {},
   "source": [
    "1. Open the file \"states.txt\" that you downloaded, what does this file contain?\n",
    "```\n",
    "This file, 'states.txt', contains a bunch of repeated files, up to 1000 lines of code.\n",
    "```"
   ]
  },
  {
   "cell_type": "markdown",
   "metadata": {},
   "source": [
    "\n",
    "*Use the code block below to open the same file, using a `for` loop print each line to the console.*"
   ]
  },
  {
   "cell_type": "code",
   "execution_count": null,
   "metadata": {},
   "outputs": [],
   "source": [
    "with open('states.txt') as file:\n",
    "    for line in file:\n",
    "        print(line, end='')\n"
   ]
  },
  {
   "cell_type": "markdown",
   "metadata": {},
   "source": [
    "2. What type of chart would be best to represent this data? Explain why\n",
    "```\n",
    "I feel as if a pie chart would be best to represent this data due to the fact that it could show the distribution of the 52 states.\n",
    "```\n",
    "3. How would we need to transform the data we have, to be displayed in this chart?\n",
    "```\n",
    "I would organize the data so all of the same state names are in the same category.\n",
    "```"
   ]
  },
  {
   "cell_type": "markdown",
   "metadata": {},
   "source": [
    "Using your knowledge of Python and Matplotlib write your code to transform and graph the data below.\n",
    "\n",
    "After your code create a new Markdown block to describe your analysis"
   ]
  },
  {
   "cell_type": "code",
   "execution_count": 39,
   "metadata": {},
   "outputs": [
    {
     "data": {
      "text/plain": [
       "Text(0.5, 1.0, 'States Printed')"
      ]
     },
     "execution_count": 39,
     "metadata": {},
     "output_type": "execute_result"
    },
    {
     "data": {
      "image/png": "[encoded data removed]",
      "text/plain": [
       "<Figure size 640x480 with 1 Axes>"
      ]
     },
     "metadata": {},
     "output_type": "display_data"
    }
   ],
   "source": [
    "import matplotlib.pyplot as plt\n",
    "\n",
    "myFile = open('states.txt')\n",
    "count = 0\n",
    "\n",
    "for x in myFile:\n",
    "    if x == \"NY\":\n",
    "        count += 1\n",
    "\n",
    "x=[]\n",
    "y=[]\n",
    "\n",
    "plt.pie(x,y)\n",
    "plt.ylabel(\"Times printed:\")\n",
    "plt.xlabel(\"State\")\n",
    "plt.title(\"States Printed\")"
   ]
  }
 ],
 "metadata": {
  "kernelspec": {
   "display_name": "Python 3",
   "language": "python",
   "name": "python3"
  },
  "language_info": {
   "codemirror_mode": {
    "name": "ipython",
    "version": 3
   },
   "file_extension": ".py",
   "mimetype": "text/x-python",
   "name": "python",
   "nbconvert_exporter": "python",
   "pygments_lexer": "ipython3",
   "version": "3.11.6"
  }
 },
 "nbformat": 4,
 "nbformat_minor": 2
}
